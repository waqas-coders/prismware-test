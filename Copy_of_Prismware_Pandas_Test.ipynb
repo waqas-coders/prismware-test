{
  "cells": [
    {
      "cell_type": "markdown",
      "metadata": {
        "id": "view-in-github",
        "colab_type": "text"
      },
      "source": [
        "<a href=\"https://colab.research.google.com/github/waqas-coders/prismware-test/blob/main/Copy_of_Prismware_Pandas_Test.ipynb\" target=\"_parent\"><img src=\"https://colab.research.google.com/assets/colab-badge.svg\" alt=\"Open In Colab\"/></a>"
      ]
    },
    {
      "cell_type": "code",
      "execution_count": null,
      "metadata": {
        "id": "AiCuQLdtE7WV"
      },
      "outputs": [],
      "source": [
        "import pandas as pd"
      ]
    },
    {
      "cell_type": "markdown",
      "source": [
        ""
      ],
      "metadata": {
        "id": "x96XGElSQ9p_"
      }
    },
    {
      "cell_type": "code",
      "execution_count": null,
      "metadata": {
        "id": "UKPadZj3E7WW",
        "outputId": "d8345ac4-2a82-442c-adf7-7b254349edd3",
        "colab": {
          "base_uri": "https://localhost:8080/",
          "height": 187
        }
      },
      "outputs": [
        {
          "output_type": "execute_result",
          "data": {
            "text/plain": [
              "   Year↗️  Month,  Day of the Week                        Date  Revenue4Room  \\\n",
              "0    2016       1                6   venerdì, gennaio 01, 2016   € 9.220,93    \n",
              "1    2016       1                7    sabato, gennaio 02, 2016   € 5.518,07    \n",
              "2    2016       1                1  domenica, gennaio 03, 2016   € 3.241,17    \n",
              "\n",
              "  Average Daily Rate Average Soom SOLd PressREV  PressADR  PressOCC  Force  \n",
              "0          € 204,91              45,00      7,64     7,14      7,34      7  \n",
              "1          € 149,14              37,00      5,11     5,22      4,18      5  \n",
              "2           € 98,22              33,00      3,02     3,08      3,16      3  "
            ],
            "text/html": [
              "\n",
              "  <div id=\"df-9df81cc0-35c8-4ff2-a2a5-62b27d381654\">\n",
              "    <div class=\"colab-df-container\">\n",
              "      <div>\n",
              "<style scoped>\n",
              "    .dataframe tbody tr th:only-of-type {\n",
              "        vertical-align: middle;\n",
              "    }\n",
              "\n",
              "    .dataframe tbody tr th {\n",
              "        vertical-align: top;\n",
              "    }\n",
              "\n",
              "    .dataframe thead th {\n",
              "        text-align: right;\n",
              "    }\n",
              "</style>\n",
              "<table border=\"1\" class=\"dataframe\">\n",
              "  <thead>\n",
              "    <tr style=\"text-align: right;\">\n",
              "      <th></th>\n",
              "      <th>Year↗️</th>\n",
              "      <th>Month,</th>\n",
              "      <th>Day of the Week</th>\n",
              "      <th>Date</th>\n",
              "      <th>Revenue4Room</th>\n",
              "      <th>Average Daily Rate</th>\n",
              "      <th>Average Soom SOLd</th>\n",
              "      <th>PressREV</th>\n",
              "      <th>PressADR</th>\n",
              "      <th>PressOCC</th>\n",
              "      <th>Force</th>\n",
              "    </tr>\n",
              "  </thead>\n",
              "  <tbody>\n",
              "    <tr>\n",
              "      <th>0</th>\n",
              "      <td>2016</td>\n",
              "      <td>1</td>\n",
              "      <td>6</td>\n",
              "      <td>venerdì, gennaio 01, 2016</td>\n",
              "      <td>€ 9.220,93</td>\n",
              "      <td>€ 204,91</td>\n",
              "      <td>45,00</td>\n",
              "      <td>7,64</td>\n",
              "      <td>7,14</td>\n",
              "      <td>7,34</td>\n",
              "      <td>7</td>\n",
              "    </tr>\n",
              "    <tr>\n",
              "      <th>1</th>\n",
              "      <td>2016</td>\n",
              "      <td>1</td>\n",
              "      <td>7</td>\n",
              "      <td>sabato, gennaio 02, 2016</td>\n",
              "      <td>€ 5.518,07</td>\n",
              "      <td>€ 149,14</td>\n",
              "      <td>37,00</td>\n",
              "      <td>5,11</td>\n",
              "      <td>5,22</td>\n",
              "      <td>4,18</td>\n",
              "      <td>5</td>\n",
              "    </tr>\n",
              "    <tr>\n",
              "      <th>2</th>\n",
              "      <td>2016</td>\n",
              "      <td>1</td>\n",
              "      <td>1</td>\n",
              "      <td>domenica, gennaio 03, 2016</td>\n",
              "      <td>€ 3.241,17</td>\n",
              "      <td>€ 98,22</td>\n",
              "      <td>33,00</td>\n",
              "      <td>3,02</td>\n",
              "      <td>3,08</td>\n",
              "      <td>3,16</td>\n",
              "      <td>3</td>\n",
              "    </tr>\n",
              "  </tbody>\n",
              "</table>\n",
              "</div>\n",
              "      <button class=\"colab-df-convert\" onclick=\"convertToInteractive('df-9df81cc0-35c8-4ff2-a2a5-62b27d381654')\"\n",
              "              title=\"Convert this dataframe to an interactive table.\"\n",
              "              style=\"display:none;\">\n",
              "        \n",
              "  <svg xmlns=\"http://www.w3.org/2000/svg\" height=\"24px\"viewBox=\"0 0 24 24\"\n",
              "       width=\"24px\">\n",
              "    <path d=\"M0 0h24v24H0V0z\" fill=\"none\"/>\n",
              "    <path d=\"M18.56 5.44l.94 2.06.94-2.06 2.06-.94-2.06-.94-.94-2.06-.94 2.06-2.06.94zm-11 1L8.5 8.5l.94-2.06 2.06-.94-2.06-.94L8.5 2.5l-.94 2.06-2.06.94zm10 10l.94 2.06.94-2.06 2.06-.94-2.06-.94-.94-2.06-.94 2.06-2.06.94z\"/><path d=\"M17.41 7.96l-1.37-1.37c-.4-.4-.92-.59-1.43-.59-.52 0-1.04.2-1.43.59L10.3 9.45l-7.72 7.72c-.78.78-.78 2.05 0 2.83L4 21.41c.39.39.9.59 1.41.59.51 0 1.02-.2 1.41-.59l7.78-7.78 2.81-2.81c.8-.78.8-2.07 0-2.86zM5.41 20L4 18.59l7.72-7.72 1.47 1.35L5.41 20z\"/>\n",
              "  </svg>\n",
              "      </button>\n",
              "      \n",
              "  <style>\n",
              "    .colab-df-container {\n",
              "      display:flex;\n",
              "      flex-wrap:wrap;\n",
              "      gap: 12px;\n",
              "    }\n",
              "\n",
              "    .colab-df-convert {\n",
              "      background-color: #E8F0FE;\n",
              "      border: none;\n",
              "      border-radius: 50%;\n",
              "      cursor: pointer;\n",
              "      display: none;\n",
              "      fill: #1967D2;\n",
              "      height: 32px;\n",
              "      padding: 0 0 0 0;\n",
              "      width: 32px;\n",
              "    }\n",
              "\n",
              "    .colab-df-convert:hover {\n",
              "      background-color: #E2EBFA;\n",
              "      box-shadow: 0px 1px 2px rgba(60, 64, 67, 0.3), 0px 1px 3px 1px rgba(60, 64, 67, 0.15);\n",
              "      fill: #174EA6;\n",
              "    }\n",
              "\n",
              "    [theme=dark] .colab-df-convert {\n",
              "      background-color: #3B4455;\n",
              "      fill: #D2E3FC;\n",
              "    }\n",
              "\n",
              "    [theme=dark] .colab-df-convert:hover {\n",
              "      background-color: #434B5C;\n",
              "      box-shadow: 0px 1px 3px 1px rgba(0, 0, 0, 0.15);\n",
              "      filter: drop-shadow(0px 1px 2px rgba(0, 0, 0, 0.3));\n",
              "      fill: #FFFFFF;\n",
              "    }\n",
              "  </style>\n",
              "\n",
              "      <script>\n",
              "        const buttonEl =\n",
              "          document.querySelector('#df-9df81cc0-35c8-4ff2-a2a5-62b27d381654 button.colab-df-convert');\n",
              "        buttonEl.style.display =\n",
              "          google.colab.kernel.accessAllowed ? 'block' : 'none';\n",
              "\n",
              "        async function convertToInteractive(key) {\n",
              "          const element = document.querySelector('#df-9df81cc0-35c8-4ff2-a2a5-62b27d381654');\n",
              "          const dataTable =\n",
              "            await google.colab.kernel.invokeFunction('convertToInteractive',\n",
              "                                                     [key], {});\n",
              "          if (!dataTable) return;\n",
              "\n",
              "          const docLinkHtml = 'Like what you see? Visit the ' +\n",
              "            '<a target=\"_blank\" href=https://colab.research.google.com/notebooks/data_table.ipynb>data table notebook</a>'\n",
              "            + ' to learn more about interactive tables.';\n",
              "          element.innerHTML = '';\n",
              "          dataTable['output_type'] = 'display_data';\n",
              "          await google.colab.output.renderOutput(dataTable, element);\n",
              "          const docLink = document.createElement('div');\n",
              "          docLink.innerHTML = docLinkHtml;\n",
              "          element.appendChild(docLink);\n",
              "        }\n",
              "      </script>\n",
              "    </div>\n",
              "  </div>\n",
              "  "
            ]
          },
          "metadata": {},
          "execution_count": 7
        }
      ],
      "source": [
        "#loading data from csv file\n",
        "df=pd.read_csv('https://storage.googleapis.com/public-data-brainy/input.csv')\n",
        "df=df.iloc[:,1:]\n",
        "df.head(3)"
      ]
    },
    {
      "cell_type": "code",
      "execution_count": null,
      "metadata": {
        "id": "nXUOSAwQE7WX",
        "colab": {
          "base_uri": "https://localhost:8080/"
        },
        "outputId": "212dbd8e-e3c8-4a69-dbf1-da7b7f56bad8"
      },
      "outputs": [
        {
          "output_type": "stream",
          "name": "stdout",
          "text": [
            "Index(['Year↗️', 'Month,', 'Day of the Week', 'Date', 'Revenue4Room',\n",
            "       'Average Daily Rate', 'Average Soom SOLd', 'PressREV ', 'PressADR',\n",
            "       ' PressOCC', 'Force'],\n",
            "      dtype='object')\n",
            "Index(['Year', 'Month', 'Day_of_the_Week', 'Date', 'Revenue4Room',\n",
            "       'Average_Daily_Rate', 'Average_Soom_SOLd', 'PressREV_', 'PressADR',\n",
            "       '_PressOCC', 'Force'],\n",
            "      dtype='object')\n"
          ]
        }
      ],
      "source": [
        "# Read All the questions and take your picks\n",
        "# Aim to scrore at least 20\n",
        "\n",
        "# code start \n",
        "default_DF = df\n",
        "# Cleaning of Dataframe\n",
        "df.fillna('', inplace=True)\n",
        "print(df.columns)\n",
        "# cleaning column name\n",
        "clean_DF = df\n",
        "# remove comma from the column names\n",
        "clean_DF.columns = clean_DF.columns.str.replace(',', '')\n",
        "# remove ↗️ from the column names\n",
        "clean_DF.columns = clean_DF.columns.str.replace('↗️', '')\n",
        "# remove all the spaces from the column names\n",
        "clean_DF.columns = clean_DF.columns.str.replace(' ', '_')\n",
        "\n",
        "print(clean_DF.columns)"
      ]
    },
    {
      "cell_type": "code",
      "execution_count": null,
      "metadata": {
        "id": "Iivgih7PE7WX",
        "colab": {
          "base_uri": "https://localhost:8080/"
        },
        "outputId": "2f3e3433-e869-45d1-b9df-065b04dbd1fb"
      },
      "outputs": [
        {
          "output_type": "stream",
          "name": "stdout",
          "text": [
            "0       01\n",
            "1       02\n",
            "2       03\n",
            "3       04\n",
            "4       05\n",
            "        ..\n",
            "1822    27\n",
            "1823    28\n",
            "1824    29\n",
            "1825    30\n",
            "1826    31\n",
            "Name: Date, Length: 1827, dtype: object\n"
          ]
        }
      ],
      "source": [
        "#Q1 ) Extract Day of the Month out of the Date column and replace the Date Column with it. \n",
        "#(4 Point)\n",
        "\n",
        "# print(clean_DF['Date'])\n",
        "clean_DF['DayOfMonth'] = clean_DF['Date'].str.extract(r'(?P<DayOfMonth>\\d{1,2})')\n",
        "clean_DF['Date'] = clean_DF['DayOfMonth']\n",
        "\n",
        "print(clean_DF['Date'])"
      ]
    },
    {
      "cell_type": "code",
      "execution_count": null,
      "metadata": {
        "id": "TLjjIK9DE7WY",
        "colab": {
          "base_uri": "https://localhost:8080/",
          "height": 904
        },
        "outputId": "ab19b978-6079-4ca0-80b0-5b42bbc9f563"
      },
      "outputs": [
        {
          "output_type": "stream",
          "name": "stdout",
          "text": [
            "Requirement already satisfied: forex_python in /usr/local/lib/python3.7/dist-packages (1.8)\n",
            "Requirement already satisfied: requests in /usr/local/lib/python3.7/dist-packages (from forex_python) (2.23.0)\n",
            "Requirement already satisfied: simplejson in /usr/local/lib/python3.7/dist-packages (from forex_python) (3.17.6)\n",
            "Requirement already satisfied: urllib3!=1.25.0,!=1.25.1,<1.26,>=1.21.1 in /usr/local/lib/python3.7/dist-packages (from requests->forex_python) (1.24.3)\n",
            "Requirement already satisfied: idna<3,>=2.5 in /usr/local/lib/python3.7/dist-packages (from requests->forex_python) (2.10)\n",
            "Requirement already satisfied: chardet<4,>=3.0.2 in /usr/local/lib/python3.7/dist-packages (from requests->forex_python) (3.0.4)\n",
            "Requirement already satisfied: certifi>=2017.4.17 in /usr/local/lib/python3.7/dist-packages (from requests->forex_python) (2021.10.8)\n",
            "$ 10.887\n",
            "$ 10.887\n",
            "$ 11.344000000000001\n",
            "$ 10.898000000000001\n",
            "$ 10.746\n",
            "$ 10.742\n",
            "$ 10.868\n",
            "$ 10.861\n",
            "$ 10.861\n",
            "$ 10.861\n",
            "$ 10.888\n",
            "$ 11.434999999999999\n",
            "$ 10.815999999999999\n",
            "$ 10.923\n",
            "$ 10.914\n",
            "$ 10.914\n",
            "$ 10.923\n",
            "$ 10.892\n",
            "$ 10.868\n",
            "$ 10.907\n",
            "$ 10.892999999999999\n",
            "$ 10.808\n"
          ]
        },
        {
          "output_type": "error",
          "ename": "KeyboardInterrupt",
          "evalue": "ignored",
          "traceback": [
            "\u001b[0;31m---------------------------------------------------------------------------\u001b[0m",
            "\u001b[0;31mKeyboardInterrupt\u001b[0m                         Traceback (most recent call last)",
            "\u001b[0;32m<ipython-input-141-54c72a0c5f3e>\u001b[0m in \u001b[0;36m<module>\u001b[0;34m()\u001b[0m\n\u001b[1;32m     34\u001b[0m     \u001b[0mexchange_rate_time\u001b[0m \u001b[0;34m=\u001b[0m \u001b[0mdatetime\u001b[0m\u001b[0;34m.\u001b[0m\u001b[0mdatetime\u001b[0m\u001b[0;34m.\u001b[0m\u001b[0mstrptime\u001b[0m\u001b[0;34m(\u001b[0m\u001b[0mstime\u001b[0m\u001b[0;34m,\u001b[0m \u001b[0;34m\"%d/%m/%Y\"\u001b[0m\u001b[0;34m)\u001b[0m\u001b[0;34m.\u001b[0m\u001b[0mtimestamp\u001b[0m\u001b[0;34m(\u001b[0m\u001b[0;34m)\u001b[0m\u001b[0;34m\u001b[0m\u001b[0;34m\u001b[0m\u001b[0m\n\u001b[1;32m     35\u001b[0m     \u001b[0mformated_Time\u001b[0m \u001b[0;34m=\u001b[0m \u001b[0mdatetime\u001b[0m\u001b[0;34m.\u001b[0m\u001b[0mdatetime\u001b[0m\u001b[0;34m.\u001b[0m\u001b[0mfromtimestamp\u001b[0m\u001b[0;34m(\u001b[0m\u001b[0mexchange_rate_time\u001b[0m\u001b[0;34m)\u001b[0m\u001b[0;34m\u001b[0m\u001b[0;34m\u001b[0m\u001b[0m\n\u001b[0;32m---> 36\u001b[0;31m     \u001b[0mEUR_to_USD\u001b[0m \u001b[0;34m=\u001b[0m \u001b[0mc\u001b[0m\u001b[0;34m.\u001b[0m\u001b[0mconvert\u001b[0m\u001b[0;34m(\u001b[0m\u001b[0;34m'EUR'\u001b[0m\u001b[0;34m,\u001b[0m \u001b[0;34m'USD'\u001b[0m\u001b[0;34m,\u001b[0m \u001b[0;36m10\u001b[0m\u001b[0;34m,\u001b[0m \u001b[0mformated_Time\u001b[0m\u001b[0;34m)\u001b[0m\u001b[0;34m\u001b[0m\u001b[0;34m\u001b[0m\u001b[0m\n\u001b[0m\u001b[1;32m     37\u001b[0m     \u001b[0mprint\u001b[0m\u001b[0;34m(\u001b[0m\u001b[0;34m'$ {0}'\u001b[0m\u001b[0;34m.\u001b[0m\u001b[0mformat\u001b[0m\u001b[0;34m(\u001b[0m\u001b[0mEUR_to_USD\u001b[0m\u001b[0;34m)\u001b[0m\u001b[0;34m)\u001b[0m\u001b[0;34m\u001b[0m\u001b[0;34m\u001b[0m\u001b[0m\n\u001b[1;32m     38\u001b[0m     \u001b[0mclean_DF\u001b[0m\u001b[0;34m.\u001b[0m\u001b[0mloc\u001b[0m\u001b[0;34m[\u001b[0m\u001b[0mkey\u001b[0m\u001b[0;34m,\u001b[0m \u001b[0;34m'Exchange_Rate'\u001b[0m\u001b[0;34m]\u001b[0m \u001b[0;34m=\u001b[0m \u001b[0;34m'$ {0}'\u001b[0m\u001b[0;34m.\u001b[0m\u001b[0mformat\u001b[0m\u001b[0;34m(\u001b[0m\u001b[0mEUR_to_USD\u001b[0m\u001b[0;34m)\u001b[0m\u001b[0;34m\u001b[0m\u001b[0;34m\u001b[0m\u001b[0m\n",
            "\u001b[0;32m/usr/local/lib/python3.7/dist-packages/forex_python/converter.py\u001b[0m in \u001b[0;36mconvert\u001b[0;34m(self, base_cur, dest_cur, amount, date_obj)\u001b[0m\n\u001b[1;32m     93\u001b[0m         \u001b[0mpayload\u001b[0m \u001b[0;34m=\u001b[0m \u001b[0;34m{\u001b[0m\u001b[0;34m'base'\u001b[0m\u001b[0;34m:\u001b[0m \u001b[0mbase_cur\u001b[0m\u001b[0;34m,\u001b[0m \u001b[0;34m'symbols'\u001b[0m\u001b[0;34m:\u001b[0m \u001b[0mdest_cur\u001b[0m\u001b[0;34m,\u001b[0m \u001b[0;34m'rtype'\u001b[0m\u001b[0;34m:\u001b[0m \u001b[0;34m'fpy'\u001b[0m\u001b[0;34m}\u001b[0m\u001b[0;34m\u001b[0m\u001b[0;34m\u001b[0m\u001b[0m\n\u001b[1;32m     94\u001b[0m         \u001b[0msource_url\u001b[0m \u001b[0;34m=\u001b[0m \u001b[0mself\u001b[0m\u001b[0;34m.\u001b[0m\u001b[0m_source_url\u001b[0m\u001b[0;34m(\u001b[0m\u001b[0;34m)\u001b[0m \u001b[0;34m+\u001b[0m \u001b[0mdate_str\u001b[0m\u001b[0;34m\u001b[0m\u001b[0;34m\u001b[0m\u001b[0m\n\u001b[0;32m---> 95\u001b[0;31m         \u001b[0mresponse\u001b[0m \u001b[0;34m=\u001b[0m \u001b[0mrequests\u001b[0m\u001b[0;34m.\u001b[0m\u001b[0mget\u001b[0m\u001b[0;34m(\u001b[0m\u001b[0msource_url\u001b[0m\u001b[0;34m,\u001b[0m \u001b[0mparams\u001b[0m\u001b[0;34m=\u001b[0m\u001b[0mpayload\u001b[0m\u001b[0;34m)\u001b[0m\u001b[0;34m\u001b[0m\u001b[0;34m\u001b[0m\u001b[0m\n\u001b[0m\u001b[1;32m     96\u001b[0m         \u001b[0;32mif\u001b[0m \u001b[0mresponse\u001b[0m\u001b[0;34m.\u001b[0m\u001b[0mstatus_code\u001b[0m \u001b[0;34m==\u001b[0m \u001b[0;36m200\u001b[0m\u001b[0;34m:\u001b[0m\u001b[0;34m\u001b[0m\u001b[0;34m\u001b[0m\u001b[0m\n\u001b[1;32m     97\u001b[0m             rate = self._get_decoded_rate(\n",
            "\u001b[0;32m/usr/local/lib/python3.7/dist-packages/requests/api.py\u001b[0m in \u001b[0;36mget\u001b[0;34m(url, params, **kwargs)\u001b[0m\n\u001b[1;32m     74\u001b[0m \u001b[0;34m\u001b[0m\u001b[0m\n\u001b[1;32m     75\u001b[0m     \u001b[0mkwargs\u001b[0m\u001b[0;34m.\u001b[0m\u001b[0msetdefault\u001b[0m\u001b[0;34m(\u001b[0m\u001b[0;34m'allow_redirects'\u001b[0m\u001b[0;34m,\u001b[0m \u001b[0;32mTrue\u001b[0m\u001b[0;34m)\u001b[0m\u001b[0;34m\u001b[0m\u001b[0;34m\u001b[0m\u001b[0m\n\u001b[0;32m---> 76\u001b[0;31m     \u001b[0;32mreturn\u001b[0m \u001b[0mrequest\u001b[0m\u001b[0;34m(\u001b[0m\u001b[0;34m'get'\u001b[0m\u001b[0;34m,\u001b[0m \u001b[0murl\u001b[0m\u001b[0;34m,\u001b[0m \u001b[0mparams\u001b[0m\u001b[0;34m=\u001b[0m\u001b[0mparams\u001b[0m\u001b[0;34m,\u001b[0m \u001b[0;34m**\u001b[0m\u001b[0mkwargs\u001b[0m\u001b[0;34m)\u001b[0m\u001b[0;34m\u001b[0m\u001b[0;34m\u001b[0m\u001b[0m\n\u001b[0m\u001b[1;32m     77\u001b[0m \u001b[0;34m\u001b[0m\u001b[0m\n\u001b[1;32m     78\u001b[0m \u001b[0;34m\u001b[0m\u001b[0m\n",
            "\u001b[0;32m/usr/local/lib/python3.7/dist-packages/requests/api.py\u001b[0m in \u001b[0;36mrequest\u001b[0;34m(method, url, **kwargs)\u001b[0m\n\u001b[1;32m     59\u001b[0m     \u001b[0;31m# cases, and look like a memory leak in others.\u001b[0m\u001b[0;34m\u001b[0m\u001b[0;34m\u001b[0m\u001b[0;34m\u001b[0m\u001b[0m\n\u001b[1;32m     60\u001b[0m     \u001b[0;32mwith\u001b[0m \u001b[0msessions\u001b[0m\u001b[0;34m.\u001b[0m\u001b[0mSession\u001b[0m\u001b[0;34m(\u001b[0m\u001b[0;34m)\u001b[0m \u001b[0;32mas\u001b[0m \u001b[0msession\u001b[0m\u001b[0;34m:\u001b[0m\u001b[0;34m\u001b[0m\u001b[0;34m\u001b[0m\u001b[0m\n\u001b[0;32m---> 61\u001b[0;31m         \u001b[0;32mreturn\u001b[0m \u001b[0msession\u001b[0m\u001b[0;34m.\u001b[0m\u001b[0mrequest\u001b[0m\u001b[0;34m(\u001b[0m\u001b[0mmethod\u001b[0m\u001b[0;34m=\u001b[0m\u001b[0mmethod\u001b[0m\u001b[0;34m,\u001b[0m \u001b[0murl\u001b[0m\u001b[0;34m=\u001b[0m\u001b[0murl\u001b[0m\u001b[0;34m,\u001b[0m \u001b[0;34m**\u001b[0m\u001b[0mkwargs\u001b[0m\u001b[0;34m)\u001b[0m\u001b[0;34m\u001b[0m\u001b[0;34m\u001b[0m\u001b[0m\n\u001b[0m\u001b[1;32m     62\u001b[0m \u001b[0;34m\u001b[0m\u001b[0m\n\u001b[1;32m     63\u001b[0m \u001b[0;34m\u001b[0m\u001b[0m\n",
            "\u001b[0;32m/usr/local/lib/python3.7/dist-packages/requests/sessions.py\u001b[0m in \u001b[0;36mrequest\u001b[0;34m(self, method, url, params, data, headers, cookies, files, auth, timeout, allow_redirects, proxies, hooks, stream, verify, cert, json)\u001b[0m\n\u001b[1;32m    528\u001b[0m         }\n\u001b[1;32m    529\u001b[0m         \u001b[0msend_kwargs\u001b[0m\u001b[0;34m.\u001b[0m\u001b[0mupdate\u001b[0m\u001b[0;34m(\u001b[0m\u001b[0msettings\u001b[0m\u001b[0;34m)\u001b[0m\u001b[0;34m\u001b[0m\u001b[0;34m\u001b[0m\u001b[0m\n\u001b[0;32m--> 530\u001b[0;31m         \u001b[0mresp\u001b[0m \u001b[0;34m=\u001b[0m \u001b[0mself\u001b[0m\u001b[0;34m.\u001b[0m\u001b[0msend\u001b[0m\u001b[0;34m(\u001b[0m\u001b[0mprep\u001b[0m\u001b[0;34m,\u001b[0m \u001b[0;34m**\u001b[0m\u001b[0msend_kwargs\u001b[0m\u001b[0;34m)\u001b[0m\u001b[0;34m\u001b[0m\u001b[0;34m\u001b[0m\u001b[0m\n\u001b[0m\u001b[1;32m    531\u001b[0m \u001b[0;34m\u001b[0m\u001b[0m\n\u001b[1;32m    532\u001b[0m         \u001b[0;32mreturn\u001b[0m \u001b[0mresp\u001b[0m\u001b[0;34m\u001b[0m\u001b[0;34m\u001b[0m\u001b[0m\n",
            "\u001b[0;32m/usr/local/lib/python3.7/dist-packages/requests/sessions.py\u001b[0m in \u001b[0;36msend\u001b[0;34m(self, request, **kwargs)\u001b[0m\n\u001b[1;32m    641\u001b[0m \u001b[0;34m\u001b[0m\u001b[0m\n\u001b[1;32m    642\u001b[0m         \u001b[0;31m# Send the request\u001b[0m\u001b[0;34m\u001b[0m\u001b[0;34m\u001b[0m\u001b[0;34m\u001b[0m\u001b[0m\n\u001b[0;32m--> 643\u001b[0;31m         \u001b[0mr\u001b[0m \u001b[0;34m=\u001b[0m \u001b[0madapter\u001b[0m\u001b[0;34m.\u001b[0m\u001b[0msend\u001b[0m\u001b[0;34m(\u001b[0m\u001b[0mrequest\u001b[0m\u001b[0;34m,\u001b[0m \u001b[0;34m**\u001b[0m\u001b[0mkwargs\u001b[0m\u001b[0;34m)\u001b[0m\u001b[0;34m\u001b[0m\u001b[0;34m\u001b[0m\u001b[0m\n\u001b[0m\u001b[1;32m    644\u001b[0m \u001b[0;34m\u001b[0m\u001b[0m\n\u001b[1;32m    645\u001b[0m         \u001b[0;31m# Total elapsed time of the request (approximately)\u001b[0m\u001b[0;34m\u001b[0m\u001b[0;34m\u001b[0m\u001b[0;34m\u001b[0m\u001b[0m\n",
            "\u001b[0;32m/usr/local/lib/python3.7/dist-packages/requests/adapters.py\u001b[0m in \u001b[0;36msend\u001b[0;34m(self, request, stream, timeout, verify, cert, proxies)\u001b[0m\n\u001b[1;32m    447\u001b[0m                     \u001b[0mdecode_content\u001b[0m\u001b[0;34m=\u001b[0m\u001b[0;32mFalse\u001b[0m\u001b[0;34m,\u001b[0m\u001b[0;34m\u001b[0m\u001b[0;34m\u001b[0m\u001b[0m\n\u001b[1;32m    448\u001b[0m                     \u001b[0mretries\u001b[0m\u001b[0;34m=\u001b[0m\u001b[0mself\u001b[0m\u001b[0;34m.\u001b[0m\u001b[0mmax_retries\u001b[0m\u001b[0;34m,\u001b[0m\u001b[0;34m\u001b[0m\u001b[0;34m\u001b[0m\u001b[0m\n\u001b[0;32m--> 449\u001b[0;31m                     \u001b[0mtimeout\u001b[0m\u001b[0;34m=\u001b[0m\u001b[0mtimeout\u001b[0m\u001b[0;34m\u001b[0m\u001b[0;34m\u001b[0m\u001b[0m\n\u001b[0m\u001b[1;32m    450\u001b[0m                 )\n\u001b[1;32m    451\u001b[0m \u001b[0;34m\u001b[0m\u001b[0m\n",
            "\u001b[0;32m/usr/local/lib/python3.7/dist-packages/urllib3/connectionpool.py\u001b[0m in \u001b[0;36murlopen\u001b[0;34m(self, method, url, body, headers, retries, redirect, assert_same_host, timeout, pool_timeout, release_conn, chunked, body_pos, **response_kw)\u001b[0m\n\u001b[1;32m    598\u001b[0m                                                   \u001b[0mtimeout\u001b[0m\u001b[0;34m=\u001b[0m\u001b[0mtimeout_obj\u001b[0m\u001b[0;34m,\u001b[0m\u001b[0;34m\u001b[0m\u001b[0;34m\u001b[0m\u001b[0m\n\u001b[1;32m    599\u001b[0m                                                   \u001b[0mbody\u001b[0m\u001b[0;34m=\u001b[0m\u001b[0mbody\u001b[0m\u001b[0;34m,\u001b[0m \u001b[0mheaders\u001b[0m\u001b[0;34m=\u001b[0m\u001b[0mheaders\u001b[0m\u001b[0;34m,\u001b[0m\u001b[0;34m\u001b[0m\u001b[0;34m\u001b[0m\u001b[0m\n\u001b[0;32m--> 600\u001b[0;31m                                                   chunked=chunked)\n\u001b[0m\u001b[1;32m    601\u001b[0m \u001b[0;34m\u001b[0m\u001b[0m\n\u001b[1;32m    602\u001b[0m             \u001b[0;31m# If we're going to release the connection in ``finally:``, then\u001b[0m\u001b[0;34m\u001b[0m\u001b[0;34m\u001b[0m\u001b[0;34m\u001b[0m\u001b[0m\n",
            "\u001b[0;32m/usr/local/lib/python3.7/dist-packages/urllib3/connectionpool.py\u001b[0m in \u001b[0;36m_make_request\u001b[0;34m(self, conn, method, url, timeout, chunked, **httplib_request_kw)\u001b[0m\n\u001b[1;32m    341\u001b[0m         \u001b[0;31m# Trigger any extra validation we need to do.\u001b[0m\u001b[0;34m\u001b[0m\u001b[0;34m\u001b[0m\u001b[0;34m\u001b[0m\u001b[0m\n\u001b[1;32m    342\u001b[0m         \u001b[0;32mtry\u001b[0m\u001b[0;34m:\u001b[0m\u001b[0;34m\u001b[0m\u001b[0;34m\u001b[0m\u001b[0m\n\u001b[0;32m--> 343\u001b[0;31m             \u001b[0mself\u001b[0m\u001b[0;34m.\u001b[0m\u001b[0m_validate_conn\u001b[0m\u001b[0;34m(\u001b[0m\u001b[0mconn\u001b[0m\u001b[0;34m)\u001b[0m\u001b[0;34m\u001b[0m\u001b[0;34m\u001b[0m\u001b[0m\n\u001b[0m\u001b[1;32m    344\u001b[0m         \u001b[0;32mexcept\u001b[0m \u001b[0;34m(\u001b[0m\u001b[0mSocketTimeout\u001b[0m\u001b[0;34m,\u001b[0m \u001b[0mBaseSSLError\u001b[0m\u001b[0;34m)\u001b[0m \u001b[0;32mas\u001b[0m \u001b[0me\u001b[0m\u001b[0;34m:\u001b[0m\u001b[0;34m\u001b[0m\u001b[0;34m\u001b[0m\u001b[0m\n\u001b[1;32m    345\u001b[0m             \u001b[0;31m# Py2 raises this as a BaseSSLError, Py3 raises it as socket timeout.\u001b[0m\u001b[0;34m\u001b[0m\u001b[0;34m\u001b[0m\u001b[0;34m\u001b[0m\u001b[0m\n",
            "\u001b[0;32m/usr/local/lib/python3.7/dist-packages/urllib3/connectionpool.py\u001b[0m in \u001b[0;36m_validate_conn\u001b[0;34m(self, conn)\u001b[0m\n\u001b[1;32m    837\u001b[0m         \u001b[0;31m# Force connect early to allow us to validate the connection.\u001b[0m\u001b[0;34m\u001b[0m\u001b[0;34m\u001b[0m\u001b[0;34m\u001b[0m\u001b[0m\n\u001b[1;32m    838\u001b[0m         \u001b[0;32mif\u001b[0m \u001b[0;32mnot\u001b[0m \u001b[0mgetattr\u001b[0m\u001b[0;34m(\u001b[0m\u001b[0mconn\u001b[0m\u001b[0;34m,\u001b[0m \u001b[0;34m'sock'\u001b[0m\u001b[0;34m,\u001b[0m \u001b[0;32mNone\u001b[0m\u001b[0;34m)\u001b[0m\u001b[0;34m:\u001b[0m  \u001b[0;31m# AppEngine might not have  `.sock`\u001b[0m\u001b[0;34m\u001b[0m\u001b[0;34m\u001b[0m\u001b[0m\n\u001b[0;32m--> 839\u001b[0;31m             \u001b[0mconn\u001b[0m\u001b[0;34m.\u001b[0m\u001b[0mconnect\u001b[0m\u001b[0;34m(\u001b[0m\u001b[0;34m)\u001b[0m\u001b[0;34m\u001b[0m\u001b[0;34m\u001b[0m\u001b[0m\n\u001b[0m\u001b[1;32m    840\u001b[0m \u001b[0;34m\u001b[0m\u001b[0m\n\u001b[1;32m    841\u001b[0m         \u001b[0;32mif\u001b[0m \u001b[0;32mnot\u001b[0m \u001b[0mconn\u001b[0m\u001b[0;34m.\u001b[0m\u001b[0mis_verified\u001b[0m\u001b[0;34m:\u001b[0m\u001b[0;34m\u001b[0m\u001b[0;34m\u001b[0m\u001b[0m\n",
            "\u001b[0;32m/usr/local/lib/python3.7/dist-packages/urllib3/connection.py\u001b[0m in \u001b[0;36mconnect\u001b[0;34m(self)\u001b[0m\n\u001b[1;32m    342\u001b[0m             \u001b[0mca_cert_dir\u001b[0m\u001b[0;34m=\u001b[0m\u001b[0mself\u001b[0m\u001b[0;34m.\u001b[0m\u001b[0mca_cert_dir\u001b[0m\u001b[0;34m,\u001b[0m\u001b[0;34m\u001b[0m\u001b[0;34m\u001b[0m\u001b[0m\n\u001b[1;32m    343\u001b[0m             \u001b[0mserver_hostname\u001b[0m\u001b[0;34m=\u001b[0m\u001b[0mserver_hostname\u001b[0m\u001b[0;34m,\u001b[0m\u001b[0;34m\u001b[0m\u001b[0;34m\u001b[0m\u001b[0m\n\u001b[0;32m--> 344\u001b[0;31m             ssl_context=context)\n\u001b[0m\u001b[1;32m    345\u001b[0m \u001b[0;34m\u001b[0m\u001b[0m\n\u001b[1;32m    346\u001b[0m         \u001b[0;32mif\u001b[0m \u001b[0mself\u001b[0m\u001b[0;34m.\u001b[0m\u001b[0massert_fingerprint\u001b[0m\u001b[0;34m:\u001b[0m\u001b[0;34m\u001b[0m\u001b[0;34m\u001b[0m\u001b[0m\n",
            "\u001b[0;32m/usr/local/lib/python3.7/dist-packages/urllib3/util/ssl_.py\u001b[0m in \u001b[0;36mssl_wrap_socket\u001b[0;34m(sock, keyfile, certfile, cert_reqs, ca_certs, server_hostname, ssl_version, ciphers, ssl_context, ca_cert_dir)\u001b[0m\n\u001b[1;32m    343\u001b[0m             or IS_SECURETRANSPORT):\n\u001b[1;32m    344\u001b[0m         \u001b[0;32mif\u001b[0m \u001b[0mHAS_SNI\u001b[0m \u001b[0;32mand\u001b[0m \u001b[0mserver_hostname\u001b[0m \u001b[0;32mis\u001b[0m \u001b[0;32mnot\u001b[0m \u001b[0;32mNone\u001b[0m\u001b[0;34m:\u001b[0m\u001b[0;34m\u001b[0m\u001b[0;34m\u001b[0m\u001b[0m\n\u001b[0;32m--> 345\u001b[0;31m             \u001b[0;32mreturn\u001b[0m \u001b[0mcontext\u001b[0m\u001b[0;34m.\u001b[0m\u001b[0mwrap_socket\u001b[0m\u001b[0;34m(\u001b[0m\u001b[0msock\u001b[0m\u001b[0;34m,\u001b[0m \u001b[0mserver_hostname\u001b[0m\u001b[0;34m=\u001b[0m\u001b[0mserver_hostname\u001b[0m\u001b[0;34m)\u001b[0m\u001b[0;34m\u001b[0m\u001b[0;34m\u001b[0m\u001b[0m\n\u001b[0m\u001b[1;32m    346\u001b[0m \u001b[0;34m\u001b[0m\u001b[0m\n\u001b[1;32m    347\u001b[0m         warnings.warn(\n",
            "\u001b[0;32m/usr/lib/python3.7/ssl.py\u001b[0m in \u001b[0;36mwrap_socket\u001b[0;34m(self, sock, server_side, do_handshake_on_connect, suppress_ragged_eofs, server_hostname, session)\u001b[0m\n\u001b[1;32m    421\u001b[0m             \u001b[0mserver_hostname\u001b[0m\u001b[0;34m=\u001b[0m\u001b[0mserver_hostname\u001b[0m\u001b[0;34m,\u001b[0m\u001b[0;34m\u001b[0m\u001b[0;34m\u001b[0m\u001b[0m\n\u001b[1;32m    422\u001b[0m             \u001b[0mcontext\u001b[0m\u001b[0;34m=\u001b[0m\u001b[0mself\u001b[0m\u001b[0;34m,\u001b[0m\u001b[0;34m\u001b[0m\u001b[0;34m\u001b[0m\u001b[0m\n\u001b[0;32m--> 423\u001b[0;31m             \u001b[0msession\u001b[0m\u001b[0;34m=\u001b[0m\u001b[0msession\u001b[0m\u001b[0;34m\u001b[0m\u001b[0;34m\u001b[0m\u001b[0m\n\u001b[0m\u001b[1;32m    424\u001b[0m         )\n\u001b[1;32m    425\u001b[0m \u001b[0;34m\u001b[0m\u001b[0m\n",
            "\u001b[0;32m/usr/lib/python3.7/ssl.py\u001b[0m in \u001b[0;36m_create\u001b[0;34m(cls, sock, server_side, do_handshake_on_connect, suppress_ragged_eofs, server_hostname, context, session)\u001b[0m\n\u001b[1;32m    868\u001b[0m                         \u001b[0;31m# non-blocking\u001b[0m\u001b[0;34m\u001b[0m\u001b[0;34m\u001b[0m\u001b[0;34m\u001b[0m\u001b[0m\n\u001b[1;32m    869\u001b[0m                         \u001b[0;32mraise\u001b[0m \u001b[0mValueError\u001b[0m\u001b[0;34m(\u001b[0m\u001b[0;34m\"do_handshake_on_connect should not be specified for non-blocking sockets\"\u001b[0m\u001b[0;34m)\u001b[0m\u001b[0;34m\u001b[0m\u001b[0;34m\u001b[0m\u001b[0m\n\u001b[0;32m--> 870\u001b[0;31m                     \u001b[0mself\u001b[0m\u001b[0;34m.\u001b[0m\u001b[0mdo_handshake\u001b[0m\u001b[0;34m(\u001b[0m\u001b[0;34m)\u001b[0m\u001b[0;34m\u001b[0m\u001b[0;34m\u001b[0m\u001b[0m\n\u001b[0m\u001b[1;32m    871\u001b[0m             \u001b[0;32mexcept\u001b[0m \u001b[0;34m(\u001b[0m\u001b[0mOSError\u001b[0m\u001b[0;34m,\u001b[0m \u001b[0mValueError\u001b[0m\u001b[0;34m)\u001b[0m\u001b[0;34m:\u001b[0m\u001b[0;34m\u001b[0m\u001b[0;34m\u001b[0m\u001b[0m\n\u001b[1;32m    872\u001b[0m                 \u001b[0mself\u001b[0m\u001b[0;34m.\u001b[0m\u001b[0mclose\u001b[0m\u001b[0;34m(\u001b[0m\u001b[0;34m)\u001b[0m\u001b[0;34m\u001b[0m\u001b[0;34m\u001b[0m\u001b[0m\n",
            "\u001b[0;32m/usr/lib/python3.7/ssl.py\u001b[0m in \u001b[0;36mdo_handshake\u001b[0;34m(self, block)\u001b[0m\n\u001b[1;32m   1137\u001b[0m             \u001b[0;32mif\u001b[0m \u001b[0mtimeout\u001b[0m \u001b[0;34m==\u001b[0m \u001b[0;36m0.0\u001b[0m \u001b[0;32mand\u001b[0m \u001b[0mblock\u001b[0m\u001b[0;34m:\u001b[0m\u001b[0;34m\u001b[0m\u001b[0;34m\u001b[0m\u001b[0m\n\u001b[1;32m   1138\u001b[0m                 \u001b[0mself\u001b[0m\u001b[0;34m.\u001b[0m\u001b[0msettimeout\u001b[0m\u001b[0;34m(\u001b[0m\u001b[0;32mNone\u001b[0m\u001b[0;34m)\u001b[0m\u001b[0;34m\u001b[0m\u001b[0;34m\u001b[0m\u001b[0m\n\u001b[0;32m-> 1139\u001b[0;31m             \u001b[0mself\u001b[0m\u001b[0;34m.\u001b[0m\u001b[0m_sslobj\u001b[0m\u001b[0;34m.\u001b[0m\u001b[0mdo_handshake\u001b[0m\u001b[0;34m(\u001b[0m\u001b[0;34m)\u001b[0m\u001b[0;34m\u001b[0m\u001b[0;34m\u001b[0m\u001b[0m\n\u001b[0m\u001b[1;32m   1140\u001b[0m         \u001b[0;32mfinally\u001b[0m\u001b[0;34m:\u001b[0m\u001b[0;34m\u001b[0m\u001b[0;34m\u001b[0m\u001b[0m\n\u001b[1;32m   1141\u001b[0m             \u001b[0mself\u001b[0m\u001b[0;34m.\u001b[0m\u001b[0msettimeout\u001b[0m\u001b[0;34m(\u001b[0m\u001b[0mtimeout\u001b[0m\u001b[0;34m)\u001b[0m\u001b[0;34m\u001b[0m\u001b[0;34m\u001b[0m\u001b[0m\n",
            "\u001b[0;31mKeyboardInterrupt\u001b[0m: "
          ]
        }
      ],
      "source": [
        "#Q2 ) User forex api to load exchange rates and convert \"Rooms Revenue\" from euro to USD based on the exact date.\n",
        "#https://forex-python.readthedocs.io/en/latest/usage.html\n",
        "#(15 Points)\n",
        "!pip install forex_python\n",
        "import datetime\n",
        "from forex_python.converter import CurrencyRates\n",
        "c = CurrencyRates()\n",
        "# We have a column Revenue4Room which has the value in EUR.\n",
        "# We want to convert Revenue4Room from EUR to USD based on the date.\n",
        "\n",
        "# First convert the Revenue4Room column to float from a format like below:\n",
        "#  € 1.972,86 to 1972.86\n",
        "clean_DF['Revenue4Room'].astype(str)\n",
        "clean_DF['Revenue4Room'] = clean_DF['Revenue4Room'].str.replace(' ', '', regex=False)\n",
        "clean_DF['Revenue4Room'] = clean_DF['Revenue4Room'].str.replace('-', '0', regex=False)\n",
        "clean_DF['Revenue4Room'] = clean_DF['Revenue4Room'].str.replace('(', '', regex=False)\n",
        "clean_DF['Revenue4Room'] = clean_DF['Revenue4Room'].str.replace(')', '', regex=False)\n",
        "# replace the € with an empty string\n",
        "clean_DF['Revenue4Room'] = clean_DF['Revenue4Room'].str.replace('€', '', regex=False)\n",
        "# replace the '.' with an empty string\n",
        "clean_DF['Revenue4Room'] = clean_DF['Revenue4Room'].str.replace('.', '', regex=False)\n",
        "# replace ',' with a '.'\n",
        "clean_DF['Revenue4Room'] = clean_DF['Revenue4Room'].str.replace(',', '.', regex=False)\n",
        "# convert the Revenue4Room column to float\n",
        "clean_DF['Revenue4Room'] = clean_DF['Revenue4Room'].astype(float)\n",
        "\n",
        "\n",
        "for key,value in clean_DF.iterrows():\n",
        "    date = str(value['Date'])\n",
        "    month = str(value['Month'])\n",
        "    year = str(value['Year'])\n",
        "    stime = date + '/' + month + '/' + year\n",
        "\n",
        "    exchange_rate_time = datetime.datetime.strptime(stime, \"%d/%m/%Y\").timestamp()\n",
        "    formated_Time = datetime.datetime.fromtimestamp(exchange_rate_time)\n",
        "    EUR_to_USD = c.convert('EUR', 'USD', 10, formated_Time)\n",
        "    print('$ {0}'.format(EUR_to_USD))\n",
        "    clean_DF.loc[key, 'Exchange_Rate'] = '$ {0}'.format(EUR_to_USD)\n",
        "   \n",
        "\n",
        "print(clean_DF['Exchange_Rate'])\n",
        "\n"
      ]
    },
    {
      "cell_type": "code",
      "execution_count": null,
      "metadata": {
        "id": "fHjNQOfXE7WY",
        "colab": {
          "base_uri": "https://localhost:8080/"
        },
        "outputId": "de67b380-8f4d-49d0-8e71-08ab2b4e892a"
      },
      "outputs": [
        {
          "output_type": "stream",
          "name": "stdout",
          "text": [
            "     PressREV_ PressADR _PressOCC\n",
            "1817      0,05     0,00      0,00\n",
            "1818      0,05     0,00      0,00\n",
            "1819      0,05     0,00      0,00\n",
            "1820      0,05     0,00      0,00\n",
            "1821      0,05     0,00      0,00\n"
          ]
        }
      ],
      "source": [
        "#Q3 ) Show 10th last to 5th last rows of data with only columns having \"Press\" in the name\n",
        "# (3 Points)\n",
        "\n",
        "last_few_rows_DF = clean_DF.iloc[-10:-5, clean_DF.columns.str.contains('Press')]\n",
        "print(last_few_rows_DF)\n",
        "\n",
        "\n"
      ]
    },
    {
      "cell_type": "code",
      "execution_count": null,
      "metadata": {
        "id": "IgkfxNAfE7WY",
        "colab": {
          "base_uri": "https://localhost:8080/"
        },
        "outputId": "b8cc27d0-aa5e-4ad5-8ec0-7d95458881db"
      },
      "outputs": [
        {
          "output_type": "stream",
          "name": "stdout",
          "text": [
            "            Day_of_the_Week  Force\n",
            "Year Month                        \n",
            "2016 1                  126     65\n",
            "     2                  114     64\n",
            "     3                  124    119\n",
            "     4                  125    143\n",
            "     5                  118    194\n",
            "     6                  121    198\n",
            "     7                  126    269\n",
            "     8                  121    283\n",
            "     9                  123    224\n",
            "     10                 122    155\n",
            "     11                 119     59\n",
            "     12                 130     46\n",
            "2017 1                  118     77\n",
            "     2                  112     80\n",
            "     3                  127     95\n",
            "     4                  120    184\n",
            "     5                  121    169\n",
            "     6                  123    217\n",
            "     7                  122    260\n",
            "     8                  124    276\n",
            "     9                  125    215\n",
            "     10                 118    142\n",
            "     11                 121     51\n",
            "     12                 126     47\n",
            "2018 1                  121     81\n",
            "     2                  112     78\n",
            "     3                  130     96\n",
            "     4                  115    130\n",
            "     5                  124    179\n",
            "     6                  125    220\n",
            "     7                  118    267\n",
            "     8                  127    277\n",
            "     9                  120    224\n",
            "     10                 121    138\n",
            "     11                 123     65\n",
            "     12                 122     72\n",
            "2019 1                  124     87\n",
            "     2                  112     73\n",
            "     3                  126     90\n",
            "     4                  117    156\n",
            "     5                  127    158\n",
            "     6                  120    223\n",
            "     7                  121    268\n",
            "     8                  130    255\n",
            "     9                  115    222\n",
            "     10                 124    131\n",
            "     11                 125     64\n",
            "     12                 118     69\n",
            "2020 1                  127    190\n",
            "     2                  119    181\n",
            "     3                  118     41\n",
            "     4                  121      0\n",
            "     5                  126     25\n",
            "     6                  117    143\n",
            "     7                  127    224\n",
            "     8                  122    276\n",
            "     9                  119    235\n",
            "     10                 130    170\n",
            "     11                 115      0\n",
            "     12                 124      0\n"
          ]
        }
      ],
      "source": [
        "#Q4 ) Show Sum of Force for each Each Month of Each Year\n",
        "#Hint GroupBy\n",
        "#( 3 Points)\n",
        "sum_of_Force = clean_DF.groupby(['Year','Month']).sum()\n",
        "print(sum_of_Force)\n",
        "\n"
      ]
    },
    {
      "cell_type": "code",
      "execution_count": null,
      "metadata": {
        "id": "jQDa7skEE7WY",
        "colab": {
          "base_uri": "https://localhost:8080/"
        },
        "outputId": "62f3ecbd-6191-44f5-96fb-8cd51387f758"
      },
      "outputs": [
        {
          "output_type": "stream",
          "name": "stdout",
          "text": [
            "    Year  Month  Day_of_the_Week                          Date  Revenue4Room  \\\n",
            "31  2016      2                2     lunedì, febbraio 01, 2016   € 1.939,80    \n",
            "32  2016      2                3    martedì, febbraio 02, 2016   € 2.642,39    \n",
            "33  2016      2                4  mercoledì, febbraio 03, 2016   € 3.706,48    \n",
            "34  2016      2                5    giovedì, febbraio 04, 2016   € 2.325,04    \n",
            "35  2016      2                6    venerdì, febbraio 05, 2016   € 2.696,54    \n",
            "36  2016      2                7     sabato, febbraio 06, 2016   € 3.347,36    \n",
            "37  2016      2                1   domenica, febbraio 07, 2016   € 1.904,22    \n",
            "38  2016      2                2     lunedì, febbraio 08, 2016   € 2.459,46    \n",
            "39  2016      2                3    martedì, febbraio 09, 2016   € 3.124,28    \n",
            "40  2016      2                4  mercoledì, febbraio 10, 2016   € 2.720,67    \n",
            "41  2016      2                5    giovedì, febbraio 11, 2016   € 2.127,17    \n",
            "42  2016      2                6    venerdì, febbraio 12, 2016   € 2.801,11    \n",
            "43  2016      2                7     sabato, febbraio 13, 2016   € 5.255,43    \n",
            "44  2016      2                1   domenica, febbraio 14, 2016   € 1.936,24    \n",
            "45  2016      2                2     lunedì, febbraio 15, 2016   € 2.904,17    \n",
            "46  2016      2                3    martedì, febbraio 16, 2016   € 3.451,55    \n",
            "47  2016      2                4  mercoledì, febbraio 17, 2016   € 3.567,51    \n",
            "48  2016      2                5    giovedì, febbraio 18, 2016   € 2.618,81    \n",
            "49  2016      2                6    venerdì, febbraio 19, 2016   € 1.845,53    \n",
            "50  2016      2                7     sabato, febbraio 20, 2016   € 3.654,89    \n",
            "51  2016      2                1   domenica, febbraio 21, 2016     € 968,09    \n",
            "52  2016      2                2     lunedì, febbraio 22, 2016   € 2.091,97    \n",
            "53  2016      2                3    martedì, febbraio 23, 2016   € 2.438,24    \n",
            "54  2016      2                4  mercoledì, febbraio 24, 2016   € 3.569,81    \n",
            "55  2016      2                5    giovedì, febbraio 25, 2016     € 373,37    \n",
            "56  2016      2                6    venerdì, febbraio 26, 2016   € 3.624,40    \n",
            "57  2016      2                7     sabato, febbraio 27, 2016   € 3.142,23    \n",
            "58  2016      2                1   domenica, febbraio 28, 2016     € 952,70    \n",
            "59  2016      2                2     lunedì, febbraio 29, 2016   € 2.969,95    \n",
            "\n",
            "   Average_Daily_Rate Average_Soom_SOLd PressREV_ PressADR _PressOCC  Force  \n",
            "31           € 69,28              28,00      1,24     0,47      2,06      1  \n",
            "32           € 73,40              36,00      2,42     0,91      3,87      2  \n",
            "33           € 80,58              46,00      3,63     1,73      9,01      4  \n",
            "34           € 80,17              29,00      1,90     1,68      2,28      2  \n",
            "35           € 86,99              31,00      2,45     2,25      2,75      2  \n",
            "36           € 76,08              44,00      3,16     1,15      6,59      3  \n",
            "37           € 59,51              32,00      1,13     0,16      2,97      1  \n",
            "38           € 79,34              31,00      2,25     1,54      2,75      2  \n",
            "39           € 72,66              43,00      2,86     0,74      5,93      3  \n",
            "40           € 69,76              39,00      2,47     0,55      4,81      2  \n",
            "41           € 78,78              27,00      1,51     1,46      1,76      2  \n",
            "42          € 100,04              28,00      2,58     3,16      2,06      3  \n",
            "43          € 111,82              47,00      5,03     3,87      9,73      5  \n",
            "44           € 92,20              21,00      1,21     2,72      0,91      1  \n",
            "45           € 80,67              36,00      2,64     1,76      3,87      3  \n",
            "46           € 84,18              41,00      3,27     2,06      5,25      3  \n",
            "47           € 79,28              45,00      3,38     1,51      7,34      3  \n",
            "48           € 79,36              33,00      2,39     1,57      3,16      2  \n",
            "49           € 55,93              33,00      1,02     0,14      3,16      1  \n",
            "50           € 81,22              45,00      3,60     1,81      7,34      4  \n",
            "51           € 64,54              15,00      0,30     0,33      0,33      0  \n",
            "52           € 74,71              28,00      1,43     1,04      2,06      1  \n",
            "53           € 81,27              30,00      2,14     1,84      2,39      2  \n",
            "54           € 81,13              44,00      3,41     1,79      6,59      3  \n",
            "55            € 8,68              43,00      0,08     0,08      5,93      0  \n",
            "56           € 80,54              45,00      3,49     1,70      7,34      3  \n",
            "57           € 89,78              35,00      2,91     2,55      3,63      3  \n",
            "58           € 59,54              16,00      0,27     0,19      0,49      0  \n",
            "59           € 84,86              35,00      2,69     2,09      3,63      3  \n"
          ]
        }
      ],
      "source": [
        "#Q5 ) Get all data for February 2016\n",
        "#(2 Points)\n",
        "Feb_data_DF = clean_DF[(clean_DF['Month'] == 2) & (clean_DF['Year'] == 2016)]\n",
        "\n",
        "print(Feb_data_DF)\n"
      ]
    },
    {
      "cell_type": "code",
      "execution_count": null,
      "metadata": {
        "id": "aMU4JrotE7WZ",
        "colab": {
          "base_uri": "https://localhost:8080/"
        },
        "outputId": "469f33f2-cc24-4d8e-c2fe-86ab2b67a7a2"
      },
      "outputs": [
        {
          "output_type": "stream",
          "name": "stdout",
          "text": [
            "Index(['Year', 'Month', 'Day_of_the_Week', 'Date', 'Revenue4Room',\n",
            "       'Average_Daily_Rate', 'Average_Soom_SOLd', 'PressREV_', 'PressADR',\n",
            "       '_PressOCC', 'Force'],\n",
            "      dtype='object')\n",
            "Index(['Year', 'Month', 'Day_of_the_Week', 'Date', 'Revenue4Room',\n",
            "       'Average_Daily_Rate', 'Average_Soom_SOLd', 'PressREV', 'PressADR',\n",
            "       'PressOCC', 'Force'],\n",
            "      dtype='object')\n"
          ]
        },
        {
          "output_type": "stream",
          "name": "stderr",
          "text": [
            "/usr/local/lib/python3.7/dist-packages/ipykernel_launcher.py:8: FutureWarning: The default value of regex will change from True to False in a future version.\n",
            "  \n",
            "/usr/local/lib/python3.7/dist-packages/ipykernel_launcher.py:10: FutureWarning: The default value of regex will change from True to False in a future version.\n",
            "  # Remove the CWD from sys.path while we load stuff.\n"
          ]
        }
      ],
      "source": [
        "#Q6 ) Convert all column names into database acceptable form\n",
        "#i.e convert space into underscore. Remove all the special characters. And make sure names start and end with a letter\n",
        "#(3 Points)\n",
        "\n",
        "print(clean_DF.columns)\n",
        "# cols = default_DF.columns\n",
        "# remove the underscore from end of the column names\n",
        "clean_DF.columns = clean_DF.columns.str.replace('_$', '')\n",
        "# remove the underscore from start of the column names\n",
        "clean_DF.columns = clean_DF.columns.str.replace('^_', '')\n",
        "print(clean_DF.columns)"
      ]
    },
    {
      "cell_type": "code",
      "execution_count": null,
      "metadata": {
        "id": "6-EC8vTmE7WZ"
      },
      "outputs": [],
      "source": [
        ""
      ]
    }
  ],
  "metadata": {
    "kernelspec": {
      "display_name": "Python 3 (ipykernel)",
      "language": "python",
      "name": "python3"
    },
    "language_info": {
      "codemirror_mode": {
        "name": "ipython",
        "version": 3
      },
      "file_extension": ".py",
      "mimetype": "text/x-python",
      "name": "python",
      "nbconvert_exporter": "python",
      "pygments_lexer": "ipython3",
      "version": "3.10.1"
    },
    "colab": {
      "name": "Copy of Prismware Pandas Test",
      "provenance": [],
      "include_colab_link": true
    }
  },
  "nbformat": 4,
  "nbformat_minor": 0
}